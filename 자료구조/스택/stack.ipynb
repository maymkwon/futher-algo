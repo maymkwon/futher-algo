{
 "metadata": {
  "language_info": {
   "codemirror_mode": {
    "name": "ipython",
    "version": 3
   },
   "file_extension": ".py",
   "mimetype": "text/x-python",
   "name": "python",
   "nbconvert_exporter": "python",
   "pygments_lexer": "ipython3",
   "version": "3.7.3-final"
  },
  "orig_nbformat": 2,
  "kernelspec": {
   "name": "python_defaultSpec_1598841335985",
   "display_name": "Python 3.7.3 64-bit"
  }
 },
 "nbformat": 4,
 "nbformat_minor": 2,
 "cells": [
  {
   "cell_type": "markdown",
   "metadata": {},
   "source": [
    "# 스택\n",
    "\n",
    "- 데이터를 제한적으로 접근할 수 있는 구조\n",
    "- 큐 (FILO: First in Last Out) \n",
    "- 스택 (LIFO: Last in First Out)\n",
    "\n",
    "1. 스택 구조\n",
    "   1. FILO(First in First Out) : 처음에 넣은 데이터를 가장 나중에 추출하는 방식\n",
    "   2. LIFO(Last in First Out) : 마지막에 넣은 데이터를 가장먼저 추출하는 방식"
   ]
  },
  {
   "cell_type": "code",
   "execution_count": 5,
   "metadata": {},
   "outputs": [],
   "source": [
    "# 스택\n",
    "def stackRecursive(data):\n",
    "    if data < 0:\n",
    "        return print('끝')\n",
    "    else: \n",
    "        print(data)\n",
    "        stackRecursive(data -1)\n",
    "        print('returned', data)"
   ]
  },
  {
   "cell_type": "code",
   "execution_count": 6,
   "metadata": {
    "tags": []
   },
   "outputs": [
    {
     "output_type": "stream",
     "name": "stdout",
     "text": "10\n9\n8\n7\n6\n5\n4\n3\n2\n1\n0\n끝\nreturned 0\nreturned 1\nreturned 2\nreturned 3\nreturned 4\nreturned 5\nreturned 6\nreturned 7\nreturned 8\nreturned 9\nreturned 10\n"
    }
   ],
   "source": [
    "stackRecursive(10)"
   ]
  },
  {
   "cell_type": "markdown",
   "metadata": {},
   "source": []
  }
 ]
}